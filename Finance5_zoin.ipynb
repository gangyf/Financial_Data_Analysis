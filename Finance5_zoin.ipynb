{
 "cells": [
  {
   "cell_type": "markdown",
   "metadata": {},
   "source": [
    "* 习题一<br>\n",
    "1.pickle模块保存数据"
   ]
  },
  {
   "cell_type": "code",
   "execution_count": 6,
   "metadata": {},
   "outputs": [
    {
     "name": "stdout",
     "output_type": "stream",
     "text": [
      "pickle存入数据所需时间:\n",
      "Wall time: 437 ms\n",
      "pickle读取数据所需时间:\n",
      "Wall time: 46.5 ms\n",
      " 驱动器 H 中的卷是 娱乐\n",
      " 卷的序列号是 D072-4C24\n",
      "\n",
      " H:\\data 的目录\n",
      "\n",
      "2017/11/08  19:16    <DIR>          .\n",
      "2017/11/08  19:16    <DIR>          ..\n",
      "2017/11/08  10:22        16,000,080 array.npy\n",
      "2017/11/08  17:39        68,500,460 data.csv\n",
      "2017/11/12  12:50        40,000,163 data.pkl\n",
      "2017/11/08  17:51        48,501,353 pandas_.csv\n",
      "2017/11/08  10:29        52,633,600 pandas_sql.db\n",
      "2017/11/08  10:30        52,633,600 pandas__sql.db\n",
      "2017/11/08  18:49        40,115,584 tab.h5\n",
      "2017/11/08  19:22        40,115,584 tab_.h5\n",
      "2017/11/08  17:27               271 test.csv\n",
      "2017/11/08  17:30                 0 test2.csv\n",
      "              10 个文件    358,500,695 字节\n",
      "               2 个目录 24,824,676,352 可用字节\n"
     ]
    }
   ],
   "source": [
    "import numpy as np\n",
    "import pickle\n",
    "import pandas as pd\n",
    "a=np.random.standard_normal((1000000,5)).round(4)\n",
    "path=\"H:\\data\\\\\"\n",
    "#pickle存入数据\n",
    "pkl_file = open(path + 'data.pkl', 'wb')\n",
    "print(\"pickle存入数据所需时间:\")\n",
    "%time pickle.dump(a, pkl_file)\n",
    "pkl_file.close()\n",
    "#pickle读取数据\n",
    "pkl_file = open(path + 'data.pkl', 'rb')  # open file for reading\n",
    "print(\"pickle读取数据所需时间:\")\n",
    "%time b = pickle.load(pkl_file)\n",
    "!dir h:data"
   ]
  },
  {
   "cell_type": "markdown",
   "metadata": {},
   "source": [
    "2.csv保存数据"
   ]
  },
  {
   "cell_type": "code",
   "execution_count": 50,
   "metadata": {},
   "outputs": [
    {
     "name": "stdout",
     "output_type": "stream",
     "text": [
      "csv存入数据所需时间:\n",
      "Wall time: 9.06 s\n"
     ]
    }
   ],
   "source": [
    "%%time\n",
    "import numpy as np\n",
    "import pickle\n",
    "import pandas as pd\n",
    "a=np.random.standard_normal((1000000,5)).round(4)\n",
    "path=\"H:\\data\\\\\"\n",
    "#写入数据到csv\n",
    "'''\n",
    "csv的write只能写String类型的，所以把数据拼接成String后写入\n",
    "'''\n",
    "csv_file = open(path + 'data.csv', 'w')  # open file for writing\n",
    "t = pd.date_range(start='2014/1/1', periods=1000000, freq='H')\n",
    "header = 'date,no1,no2,no3,no4,no5\\n'\n",
    "csv_file.write(header)\n",
    "for t_, (no1, no2, no3, no4, no5) in zip(t, a):\n",
    "    s = '%s,%f,%f,%f,%f,%f\\n' % (t_, no1, no2, no3, no4, no5)\n",
    "    csv_file.write(s)\n",
    "csv_file.close()\n",
    "print(\"csv存入数据所需时间:\")\n"
   ]
  },
  {
   "cell_type": "code",
   "execution_count": 14,
   "metadata": {},
   "outputs": [
    {
     "name": "stdout",
     "output_type": "stream",
     "text": [
      "['date', 'no1', 'no2', 'no3', 'no4', 'no5']\n",
      "['2014-01-01 00:00:00', '-0.051100', '0.416400', '0.909300', '1.689000', '0.070900']\n",
      "['2014-01-01 01:00:00', '-1.194700', '0.147900', '1.916400', '1.272000', '0.908800']\n",
      "['2014-01-01 02:00:00', '0.809500', '-0.347700', '-0.044700', '1.038400', '1.210600']\n",
      "['2014-01-01 03:00:00', '0.919300', '0.641700', '-1.499200', '0.042600', '-0.127600']\n",
      "['2014-01-01 04:00:00', '0.089100', '-1.522900', '-1.242400', '0.298100', '-0.689500']\n",
      " 驱动器 H 中的卷是 娱乐\n",
      " 卷的序列号是 D072-4C24\n",
      "\n",
      " H:\\data 的目录\n",
      "\n",
      "2017/11/12  12:53    <DIR>          .\n",
      "2017/11/12  12:53    <DIR>          ..\n",
      "2017/11/12  12:53        16,000,080 array.npy\n",
      "2017/11/12  12:53        16,000,080 array2.npy\n",
      "2017/11/08  17:39        68,500,460 data.csv\n",
      "2017/11/12  12:50        40,000,163 data.pkl\n",
      "2017/11/08  17:51        48,501,353 pandas_.csv\n",
      "2017/11/08  10:29        52,633,600 pandas_sql.db\n",
      "2017/11/08  10:30        52,633,600 pandas__sql.db\n",
      "2017/11/08  18:49        40,115,584 tab.h5\n",
      "2017/11/08  19:22        40,115,584 tab_.h5\n",
      "2017/11/08  17:27               271 test.csv\n",
      "2017/11/08  17:30                 0 test2.csv\n",
      "              11 个文件    374,500,775 字节\n",
      "               2 个目录 24,808,673,280 可用字节\n",
      "从csv读取数据的时间:\n",
      "Wall time: 43.6 ms\n"
     ]
    }
   ],
   "source": [
    "%%time\n",
    "import numpy as np\n",
    "import pickle\n",
    "import pandas as pd\n",
    "import csv\n",
    "path=\"H:\\data\\\\\"\n",
    "#从csv读取数据\n",
    "'''\n",
    "读取数据时用csv.reader(file)方法获得csv_reader对象，迭代csv_reader对象获得数据\n",
    "'''\n",
    "csv_file = open(path + 'data.csv', 'r')  # open file for reading\n",
    "csv_reader=csv.reader(csv_file)\n",
    "for i,rows in enumerate(csv_reader):\n",
    "    if(i<=5):\n",
    "        print(rows)\n",
    "    else:\n",
    "        break\n",
    "csv_file.close()\n",
    "!dir h:data\n",
    "print(\"从csv读取数据的时间:\")\n"
   ]
  },
  {
   "cell_type": "markdown",
   "metadata": {},
   "source": [
    "3.numpy的save和load方法"
   ]
  },
  {
   "cell_type": "code",
   "execution_count": 11,
   "metadata": {},
   "outputs": [
    {
     "name": "stdout",
     "output_type": "stream",
     "text": [
      "numpy 保存数据的时间:\n",
      "Wall time: 8.52 ms\n",
      "numpy 读取数据的时间:\n",
      "Wall time: 9.53 ms\n",
      " 驱动器 H 中的卷是 娱乐\n",
      " 卷的序列号是 D072-4C24\n",
      "\n",
      " H:\\data 的目录\n",
      "\n",
      "2017/11/12  12:53    <DIR>          .\n",
      "2017/11/12  12:53    <DIR>          ..\n",
      "2017/11/12  12:53        16,000,080 array.npy\n",
      "2017/11/12  12:53        16,000,080 array2.npy\n",
      "2017/11/08  17:39        68,500,460 data.csv\n",
      "2017/11/12  12:50        40,000,163 data.pkl\n",
      "2017/11/08  17:51        48,501,353 pandas_.csv\n",
      "2017/11/08  10:29        52,633,600 pandas_sql.db\n",
      "2017/11/08  10:30        52,633,600 pandas__sql.db\n",
      "2017/11/08  18:49        40,115,584 tab.h5\n",
      "2017/11/08  19:22        40,115,584 tab_.h5\n",
      "2017/11/08  17:27               271 test.csv\n",
      "2017/11/08  17:30                 0 test2.csv\n",
      "              11 个文件    374,500,775 字节\n",
      "               2 个目录 24,808,673,280 可用字节\n"
     ]
    }
   ],
   "source": [
    "import numpy as np\n",
    "path=\"h:\\data\\\\\"\n",
    "data = np.random.standard_normal((1000000, 2)).round(4)\n",
    "print(\"numpy 保存数据的时间:\")\n",
    "%time np.save(path + 'array', data)  # suffix .npy is added\n",
    "print(\"numpy 读取数据的时间:\")\n",
    "%time np.load(path + 'array.npy')\n",
    "!dir h:data"
   ]
  },
  {
   "cell_type": "markdown",
   "metadata": {},
   "source": [
    "* 习题二<br>\n",
    "1.pandas 保存数据到csv文件"
   ]
  },
  {
   "cell_type": "code",
   "execution_count": 58,
   "metadata": {},
   "outputs": [
    {
     "name": "stdout",
     "output_type": "stream",
     "text": [
      "保存数据到csv的时间:\n",
      "Wall time: 4.78 s\n"
     ]
    }
   ],
   "source": [
    "%%time\n",
    "import numpy as np\n",
    "import pandas as pd\n",
    "path=\"h:\\data\\\\\"\n",
    "data = np.random.standard_normal((1000000, 5)).round(4)\n",
    "#存入数据到csv文件\n",
    "csv_file = open(path + 'pandas_.csv', 'w')  # open file for writing\n",
    "for i in range(len(data)):#按照一行一行保存，每行拼接成字符串\n",
    "    s = '%f,%f,%f,%f,%f\\n' % (data[i][0],data[i][1], data[i][2],data[i][3], data[i][4])\n",
    "    csv_file.write(s)\n",
    "csv_file.close()\n",
    "print(\"保存数据到csv的时间:\")"
   ]
  },
  {
   "cell_type": "code",
   "execution_count": 17,
   "metadata": {},
   "outputs": [
    {
     "name": "stdout",
     "output_type": "stream",
     "text": [
      "从csv读取数据的时间:\n",
      "Wall time: 1 ms\n",
      "['-0.195300', '0.594600', '-0.596900', '1.734800', '-0.952900']\n",
      "['-2.542400', '0.975000', '1.402300', '-0.213500', '-1.137800']\n",
      "['0.476700', '1.784000', '-0.796500', '1.282400', '-0.413300']\n",
      "['-0.706400', '-1.425100', '1.955700', '0.780900', '1.228200']\n",
      "['0.102900', '1.936100', '0.899500', '0.021800', '-0.427600']\n",
      "['0.291300', '0.285000', '-0.976000', '0.482800', '-0.231000']\n"
     ]
    }
   ],
   "source": [
    "import numpy as np\n",
    "import pandas as pd\n",
    "import csv\n",
    "path=\"h:\\data\\\\\"\n",
    "#从csv文件读取数据\n",
    "print(\"从csv读取数据的时间:\")\n",
    "%time csv_file = open(path + 'pandas_.csv', 'r')  # open file for reading\n",
    "csv_reader=csv.reader(csv_file)\n",
    "#迭代csv_Reader对象获得数据\n",
    "for i,rows in enumerate(csv_reader):\n",
    "    if(i<=5):\n",
    "        print(rows)\n",
    "csv_file.close()"
   ]
  },
  {
   "cell_type": "markdown",
   "metadata": {},
   "source": [
    "2.sqllite3 数据库 保存 读取数据"
   ]
  },
  {
   "cell_type": "code",
   "execution_count": 31,
   "metadata": {},
   "outputs": [
    {
     "name": "stdout",
     "output_type": "stream",
     "text": [
      "插入数据到sqllite的时间:\n",
      "Wall time: 8.46 s\n",
      "从sqllite读取数据所需要的时间:\n",
      "Wall time: 1.67 s\n"
     ]
    }
   ],
   "source": [
    "import sqlite3 as sq3\n",
    "path=\"h:\\data\\\\\"\n",
    "query = 'CREATE TABLE numbers (No1 real, No2 real,\\\n",
    "        No3 real, No4 real, No5 real)'\n",
    "con = sq3.Connection(\"h:data\\pandas__sql\" + '.db')\n",
    "con.execute(query)\n",
    "data = np.random.standard_normal((1000000, 5)).round(4)\n",
    "print(\"插入数据到sqllite的时间:\")\n",
    "%time con.executemany('INSERT INTO numbers VALUES (?, ?, ?, ?, ?)', data)\n",
    "con.commit()\n",
    "print(\"从sqllite读取数据所需要的时间:\")\n",
    "%time temp = con.execute('SELECT * FROM numbers').fetchall()"
   ]
  },
  {
   "cell_type": "markdown",
   "metadata": {},
   "source": [
    "3.pytables保存 读取数据"
   ]
  },
  {
   "cell_type": "code",
   "execution_count": 111,
   "metadata": {},
   "outputs": [
    {
     "name": "stdout",
     "output_type": "stream",
     "text": [
      "/ints_floats (Table(1000000,)) 'Integers and Float'\n",
      "[(-0.2234, -0.2978, -1.1501,  1.1521, -1.2323)\n",
      " ( 0.4272,  0.6614, -1.8779, -2.3489,  0.526 )\n",
      " (-0.7836,  0.3051, -0.6255, -0.0739, -1.9762)]\n",
      "保存数据到pytables的时间:\n",
      "Wall time: 2.15 s\n"
     ]
    }
   ],
   "source": [
    "%%time\n",
    "import numpy as np\n",
    "import tables as tb\n",
    "import datetime as dt\n",
    "import matplotlib.pyplot as plt\n",
    "path=\"h:\\data\\\\\"\n",
    "filename = path + 'tab_.h5'\n",
    "h5 = tb.open_file(filename, 'w')\n",
    "rows=1000000\n",
    "data = np.random.standard_normal((rows, 5)).round(4)\n",
    "row_des = {\n",
    "    'No1': tb.Float64Col(pos=1),\n",
    "    'No2': tb.Float64Col(pos=2),\n",
    "    'No3': tb.Float64Col(pos=3),\n",
    "    'No4': tb.Float64Col(pos=4),\n",
    "    'No5': tb.Float64Col(pos=5)\n",
    "    }\n",
    "filters = tb.Filters(complevel=0)  # no compression\n",
    "#创建table\n",
    "tab = h5.create_table('/', 'ints_floats', row_des,\n",
    "                      title='Integers and Float',expectedrows=rows, filters=filters)\n",
    "#往table中保存数据\n",
    "pointer = tab.row\n",
    "for i in range(rows):\n",
    "    pointer['No1'] = data[i,0]\n",
    "    pointer['No2'] = data[i,1]\n",
    "    pointer['No3'] = data[i,2] \n",
    "    pointer['No4'] = data[i,3]\n",
    "    pointer['No5'] = data[i,4] \n",
    "    pointer.append()\n",
    "      # this appends the data and\n",
    "      # moves the pointer one row forward\n",
    "tab.flush()\n",
    "print(tab)\n",
    "print(tab[:3])\n",
    "h5.close()\n",
    "print(\"保存数据到pytables的时间:\")\n",
    "\n"
   ]
  },
  {
   "cell_type": "code",
   "execution_count": 143,
   "metadata": {},
   "outputs": [
    {
     "name": "stdout",
     "output_type": "stream",
     "text": [
      "[(-0.2234, -0.2978, -1.1501,  1.1521, -1.2323)\n",
      " ( 0.4272,  0.6614, -1.8779, -2.3489,  0.526 )\n",
      " (-0.7836,  0.3051, -0.6255, -0.0739, -1.9762)]\n",
      "从pytable读取数据的时间:\n",
      "Wall time: 9.01 ms\n"
     ]
    }
   ],
   "source": [
    "%%time\n",
    "import numpy as np\n",
    "import tables as tb\n",
    "import datetime as dt\n",
    "import matplotlib.pyplot as plt\n",
    "path=\"h:\\data\\\\\"\n",
    "filename = path + 'tab_.h5'\n",
    "'''\n",
    "tb.open_file(filename, mode='r', title='', root_uep='/', filters=None, **kwargs)\n",
    "得到文件对象后，并不知道如何得到自己创建那个结点的表，\n",
    "ppt上也不说，h5对象的文档里也不说怎么获取结点对应的表，全靠pycharm的自动提示找的get_node方法。。。恩，百度上也没有\n",
    "'''\n",
    "h5 = tb.open_file(filename, 'r')\n",
    "tab=h5.get_node(\"/ints_floats\")\n",
    "print(tab[:3])\n",
    "h5.close()\n",
    "print(\"从pytable读取数据的时间:\")"
   ]
  },
  {
   "cell_type": "markdown",
   "metadata": {},
   "source": [
    "* 习题三<br>\n",
    "1.sqllite直方图 散点图\n"
   ]
  },
  {
   "cell_type": "code",
   "execution_count": 192,
   "metadata": {},
   "outputs": [
    {
     "data": {
      "image/png": "[encoded data removed]",
      "text/plain": [
       "<matplotlib.figure.Figure at 0x11f2fa51908>"
      ]
     },
     "metadata": {},
     "output_type": "display_data"
    },
    {
     "data": {
      "image/png": "[encoded data removed]",
      "text/plain": [
       "<matplotlib.figure.Figure at 0x11f27edc6a0>"
      ]
     },
     "metadata": {},
     "output_type": "display_data"
    }
   ],
   "source": [
    "import sqlite3 as sq3\n",
    "import matplotlib.pyplot as plt\n",
    "con = sq3.Connection(\"h:\\data\\pandas__sql.db\")\n",
    "#通过sql语句控制过滤条件\n",
    "#sql语句里可以直接abs，其他的似乎都不行。。。\n",
    "data = con.execute('SELECT * FROM numbers WHERE abs(No1) > 1 AND abs(No2) > 1 ').fetchall()\n",
    "#这里也不能abs\n",
    "res=np.array([(row[1],row[2]) for row in data if (((row[1]>1) | (row[1]<-1))& ((row[2]>1)|(row[2]<-1)))])\n",
    "#绘制直方图\n",
    "plt.hist(res, bins=30)\n",
    "plt.grid(True)\n",
    "plt.title(\"histogram\")\n",
    "plt.legend([\"No3\",\"No4\"])\n",
    "plt.show()\n",
    "#绘制散点图\n",
    "plt.plot(res.T[0], res.T[1], 'ro')\n",
    "plt.title('Scatter plot')\n",
    "plt.show()"
   ]
  },
  {
   "cell_type": "markdown",
   "metadata": {},
   "source": [
    "2.hdf5 直方图 散点图"
   ]
  },
  {
   "cell_type": "code",
   "execution_count": 188,
   "metadata": {},
   "outputs": [
    {
     "data": {
      "image/png": "[encoded data removed]",
      "text/plain": [
       "<matplotlib.figure.Figure at 0x11f1305b048>"
      ]
     },
     "metadata": {},
     "output_type": "display_data"
    },
    {
     "data": {
      "image/png": "[encoded data removed]",
      "text/plain": [
       "<matplotlib.figure.Figure at 0x11f2dd7b390>"
      ]
     },
     "metadata": {},
     "output_type": "display_data"
    }
   ],
   "source": [
    "import numpy as np\n",
    "import tables as tb\n",
    "import datetime as dt\n",
    "import matplotlib.pyplot as plt\n",
    "path=\"h:\\data\\\\\"\n",
    "filename = path + 'tab_.h5'\n",
    "h5 = tb.open_file(filename, 'r')\n",
    "#得到对应节点的表\n",
    "tab=h5.get_node(\"/ints_floats\")\n",
    "#筛选数据表中符合要求的数据，并构造成nparray\n",
    "#注意这里的tab.where里的语句不能用abs(No3)>0.5,应该是不支持的，亲测\n",
    "res=np.array([(row['No3'], row['No4']) for row in tab.where('((No3 < -0.5) | (No3 > 0.5)) & ((No4 < -0.5) | (No4 > 0.5))')])\n",
    "#对数据绘图\n",
    "plt.hist(res, bins=30)\n",
    "plt.grid(True)\n",
    "plt.title(\"histogram\")\n",
    "plt.legend([\"No3\",\"No4\"])\n",
    "plt.show()\n",
    "\n",
    "#绘制散点图\n",
    "'''\n",
    "plot里穿的参数第一个是x向量,第二个是y向量\n",
    "注意这里的res一开始的shape是100万*2\n",
    "而我们要把它的No3的值作为x轴，No4的值作为y轴\n",
    "所以要把每个列当成一个向量，reshape成2*100万的矩阵\n",
    "这里的T也就是转置，转置之后取第一个行向量和第二个行向量\n",
    "'''\n",
    "plt.plot(res.T[0], res.T[1], 'ro')\n",
    "plt.title('Scatter plot')\n",
    "plt.show()"
   ]
  },
  {
   "cell_type": "code",
   "execution_count": 5,
   "metadata": {},
   "outputs": [
    {
     "name": "stdout",
     "output_type": "stream",
     "text": [
      " 驱动器 H 中的卷是 娱乐\n",
      " 卷的序列号是 D072-4C24\n",
      "\n",
      " H:\\data 的目录\n",
      "\n",
      "2017/11/08  19:16    <DIR>          .\n",
      "2017/11/08  19:16    <DIR>          ..\n",
      "2017/11/08  10:22        16,000,080 array.npy\n",
      "2017/11/08  17:39        68,500,460 data.csv\n",
      "2017/11/08  17:30        40,000,163 data.pkl\n",
      "2017/11/08  17:51        48,501,353 pandas_.csv\n",
      "2017/11/08  10:29        52,633,600 pandas_sql.db\n",
      "2017/11/08  10:30        52,633,600 pandas__sql.db\n",
      "2017/11/08  18:49        40,115,584 tab.h5\n",
      "2017/11/08  19:22        40,115,584 tab_.h5\n",
      "2017/11/08  17:27               271 test.csv\n",
      "2017/11/08  17:30                 0 test2.csv\n",
      "              10 个文件    358,500,695 字节\n",
      "               2 个目录 24,824,676,352 可用字节\n"
     ]
    }
   ],
   "source": []
  },
  {
   "cell_type": "code",
   "execution_count": null,
   "metadata": {
    "collapsed": true
   },
   "outputs": [],
   "source": []
  }
 ],
 "metadata": {
  "kernelspec": {
   "display_name": "Python 3",
   "language": "python",
   "name": "python3"
  },
  "language_info": {
   "codemirror_mode": {
    "name": "ipython",
    "version": 3
   },
   "file_extension": ".py",
   "mimetype": "text/x-python",
   "name": "python",
   "nbconvert_exporter": "python",
   "pygments_lexer": "ipython3",
   "version": "3.6.1"
  }
 },
 "nbformat": 4,
 "nbformat_minor": 2
}
